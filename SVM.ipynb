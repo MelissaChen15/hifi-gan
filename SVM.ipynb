{
 "cells": [
  {
   "cell_type": "code",
   "execution_count": 2,
   "id": "bd87d422",
   "metadata": {},
   "outputs": [],
   "source": [
    "from sklearn import svm, datasets\n",
    "import sklearn.model_selection as model_selection\n",
    "from sklearn.metrics import accuracy_score\n",
    "from sklearn.metrics import f1_score\n",
    "import matplotlib.pyplot as plt\n",
    "import numpy as np\n",
    "import pandas as pd"
   ]
  },
  {
   "cell_type": "code",
   "execution_count": 3,
   "id": "7eaf49a9",
   "metadata": {},
   "outputs": [],
   "source": [
    "losses = pd.read_csv(\"./processed.csv\")\n",
    "s = losses.s.to_numpy()\n",
    "f = losses.s.to_numpy()\n",
    "X = np.stack((s, f), axis=1)\n",
    "y = losses.label.to_numpy()"
   ]
  },
  {
   "cell_type": "code",
   "execution_count": 39,
   "id": "2c7e4ade",
   "metadata": {},
   "outputs": [],
   "source": [
    "losses = np.load(\"./disc_loss_eval.npy\")\n",
    "X = losses[:,0:7].astype(\"float\")\n",
    "y = losses[:,8].astype(\"float\")"
   ]
  },
  {
   "cell_type": "code",
   "execution_count": 29,
   "id": "d0cc27c6",
   "metadata": {},
   "outputs": [
    {
     "data": {
      "text/plain": [
       "((71113, 7), (71113,))"
      ]
     },
     "execution_count": 29,
     "metadata": {},
     "output_type": "execute_result"
    }
   ],
   "source": [
    "X.shape, y.shape"
   ]
  },
  {
   "cell_type": "markdown",
   "id": "eaff77b9",
   "metadata": {},
   "source": [
    "## SVM"
   ]
  },
  {
   "cell_type": "code",
   "execution_count": 4,
   "id": "c4f4c96b",
   "metadata": {},
   "outputs": [],
   "source": [
    "X_train, X_test, y_train, y_test = model_selection.train_test_split(X, y, train_size=0.80, test_size=0.20, random_state=101)"
   ]
  },
  {
   "cell_type": "code",
   "execution_count": 5,
   "id": "dc2bafda",
   "metadata": {},
   "outputs": [],
   "source": [
    "rbf = svm.SVC(kernel='rbf', gamma=0.5, C=0.1).fit(X_train, y_train)\n",
    "poly = svm.SVC(kernel='poly', degree=3, C=1).fit(X_train, y_train)"
   ]
  },
  {
   "cell_type": "code",
   "execution_count": 6,
   "id": "746582c5",
   "metadata": {},
   "outputs": [],
   "source": [
    "poly_pred = poly.predict(X_test)\n",
    "rbf_pred = rbf.predict(X_test)"
   ]
  },
  {
   "cell_type": "code",
   "execution_count": 7,
   "id": "d36af407",
   "metadata": {},
   "outputs": [
    {
     "name": "stdout",
     "output_type": "stream",
     "text": [
      "Accuracy (Polynomial Kernel):  89.43\n",
      "F1 (Polynomial Kernel):  84.43\n",
      "Accuracy (RBF Kernel):  89.43\n",
      "F1 (RBF Kernel):  84.43\n"
     ]
    }
   ],
   "source": [
    "poly_accuracy = accuracy_score(y_test, poly_pred)\n",
    "poly_f1 = f1_score(y_test, poly_pred, average='weighted')\n",
    "print('Accuracy (Polynomial Kernel): ', \"%.2f\" % (poly_accuracy*100))\n",
    "print('F1 (Polynomial Kernel): ', \"%.2f\" % (poly_f1*100))\n",
    "\n",
    "rbf_accuracy = accuracy_score(y_test, rbf_pred)\n",
    "rbf_f1 = f1_score(y_test, rbf_pred, average='weighted')\n",
    "print('Accuracy (RBF Kernel): ', \"%.2f\" % (rbf_accuracy*100))\n",
    "print('F1 (RBF Kernel): ', \"%.2f\" % (rbf_f1*100))"
   ]
  },
  {
   "cell_type": "code",
   "execution_count": 22,
   "id": "b87c7281",
   "metadata": {},
   "outputs": [
    {
     "data": {
      "text/plain": [
       "array([0., 0., 0., ..., 0., 0., 0.])"
      ]
     },
     "execution_count": 22,
     "metadata": {},
     "output_type": "execute_result"
    }
   ],
   "source": [
    "scores = poly.predict(X)\n",
    "scores"
   ]
  },
  {
   "cell_type": "markdown",
   "id": "553256d1",
   "metadata": {},
   "source": [
    "## Naive network and random network"
   ]
  },
  {
   "cell_type": "code",
   "execution_count": 20,
   "id": "35164de3",
   "metadata": {},
   "outputs": [],
   "source": [
    "from numpy import loadtxt\n",
    "from keras.models import Sequential\n",
    "from keras.layers import Dense"
   ]
  },
  {
   "cell_type": "code",
   "execution_count": 21,
   "id": "50626a7f",
   "metadata": {},
   "outputs": [
    {
     "name": "stdout",
     "output_type": "stream",
     "text": [
      "Epoch 1/100\n",
      "2538/2538 [==============================] - 3s 920us/step - loss: 0.3044 - accuracy: 0.8943\n",
      "Epoch 2/100\n",
      "2538/2538 [==============================] - 2s 911us/step - loss: 0.2870 - accuracy: 0.8984\n",
      "Epoch 3/100\n",
      "2538/2538 [==============================] - 2s 914us/step - loss: 0.2845 - accuracy: 0.8984\n",
      "Epoch 4/100\n",
      "2538/2538 [==============================] - 2s 913us/step - loss: 0.2828 - accuracy: 0.8983\n",
      "Epoch 5/100\n",
      "2538/2538 [==============================] - 2s 916us/step - loss: 0.2814 - accuracy: 0.8985\n",
      "Epoch 6/100\n",
      "2538/2538 [==============================] - 2s 911us/step - loss: 0.2807 - accuracy: 0.8985\n",
      "Epoch 7/100\n",
      "2538/2538 [==============================] - 2s 916us/step - loss: 0.2797 - accuracy: 0.8984\n",
      "Epoch 8/100\n",
      "2538/2538 [==============================] - 2s 919us/step - loss: 0.2791 - accuracy: 0.8990\n",
      "Epoch 9/100\n",
      "2538/2538 [==============================] - 2s 910us/step - loss: 0.2782 - accuracy: 0.8982\n",
      "Epoch 10/100\n",
      "2538/2538 [==============================] - 2s 912us/step - loss: 0.2775 - accuracy: 0.8981\n",
      "Epoch 11/100\n",
      "2538/2538 [==============================] - 2s 913us/step - loss: 0.2774 - accuracy: 0.8986\n",
      "Epoch 12/100\n",
      "2538/2538 [==============================] - 2s 918us/step - loss: 0.2764 - accuracy: 0.8990\n",
      "Epoch 13/100\n",
      "2538/2538 [==============================] - 2s 908us/step - loss: 0.2760 - accuracy: 0.8986\n",
      "Epoch 14/100\n",
      "2538/2538 [==============================] - 2s 917us/step - loss: 0.2755 - accuracy: 0.8987\n",
      "Epoch 15/100\n",
      "2538/2538 [==============================] - 2s 919us/step - loss: 0.2753 - accuracy: 0.8993\n",
      "Epoch 16/100\n",
      "2538/2538 [==============================] - 2s 915us/step - loss: 0.2750 - accuracy: 0.8987\n",
      "Epoch 17/100\n",
      "2538/2538 [==============================] - 2s 915us/step - loss: 0.2747 - accuracy: 0.8985\n",
      "Epoch 18/100\n",
      "2538/2538 [==============================] - 2s 914us/step - loss: 0.2739 - accuracy: 0.8985\n",
      "Epoch 19/100\n",
      "2538/2538 [==============================] - 2s 919us/step - loss: 0.2740 - accuracy: 0.8988\n",
      "Epoch 20/100\n",
      "2538/2538 [==============================] - 2s 913us/step - loss: 0.2735 - accuracy: 0.8985\n",
      "Epoch 21/100\n",
      "2538/2538 [==============================] - 2s 918us/step - loss: 0.2736 - accuracy: 0.8988\n",
      "Epoch 22/100\n",
      "2538/2538 [==============================] - 2s 914us/step - loss: 0.2730 - accuracy: 0.8993\n",
      "Epoch 23/100\n",
      "2538/2538 [==============================] - 2s 911us/step - loss: 0.2727 - accuracy: 0.8993\n",
      "Epoch 24/100\n",
      "2538/2538 [==============================] - 2s 916us/step - loss: 0.2726 - accuracy: 0.8992\n",
      "Epoch 25/100\n",
      "2538/2538 [==============================] - 2s 915us/step - loss: 0.2719 - accuracy: 0.8986\n",
      "Epoch 26/100\n",
      "2538/2538 [==============================] - 2s 916us/step - loss: 0.2717 - accuracy: 0.8994\n",
      "Epoch 27/100\n",
      "2538/2538 [==============================] - 2s 914us/step - loss: 0.2721 - accuracy: 0.8993\n",
      "Epoch 28/100\n",
      "2538/2538 [==============================] - 2s 914us/step - loss: 0.2709 - accuracy: 0.8992\n",
      "Epoch 29/100\n",
      "2538/2538 [==============================] - 2s 923us/step - loss: 0.2712 - accuracy: 0.8998\n",
      "Epoch 30/100\n",
      "2538/2538 [==============================] - 2s 916us/step - loss: 0.2711 - accuracy: 0.8998\n",
      "Epoch 31/100\n",
      "2538/2538 [==============================] - 2s 913us/step - loss: 0.2703 - accuracy: 0.8999\n",
      "Epoch 32/100\n",
      "2538/2538 [==============================] - 2s 909us/step - loss: 0.2702 - accuracy: 0.8994\n",
      "Epoch 33/100\n",
      "2538/2538 [==============================] - 2s 914us/step - loss: 0.2703 - accuracy: 0.8995\n",
      "Epoch 34/100\n",
      "2538/2538 [==============================] - 2s 916us/step - loss: 0.2697 - accuracy: 0.9002\n",
      "Epoch 35/100\n",
      "2538/2538 [==============================] - 2s 915us/step - loss: 0.2698 - accuracy: 0.8996\n",
      "Epoch 36/100\n",
      "2538/2538 [==============================] - 2s 918us/step - loss: 0.2696 - accuracy: 0.8994\n",
      "Epoch 37/100\n",
      "2538/2538 [==============================] - 2s 915us/step - loss: 0.2690 - accuracy: 0.8998\n",
      "Epoch 38/100\n",
      "2538/2538 [==============================] - 2s 913us/step - loss: 0.2687 - accuracy: 0.8999\n",
      "Epoch 39/100\n",
      "2538/2538 [==============================] - 2s 915us/step - loss: 0.2688 - accuracy: 0.8993\n",
      "Epoch 40/100\n",
      "2538/2538 [==============================] - 2s 912us/step - loss: 0.2673 - accuracy: 0.8998\n",
      "Epoch 41/100\n",
      "2538/2538 [==============================] - 2s 921us/step - loss: 0.2679 - accuracy: 0.8997\n",
      "Epoch 42/100\n",
      "2538/2538 [==============================] - 2s 915us/step - loss: 0.2672 - accuracy: 0.8998\n",
      "Epoch 43/100\n",
      "2538/2538 [==============================] - 2s 917us/step - loss: 0.2666 - accuracy: 0.8997\n",
      "Epoch 44/100\n",
      "2538/2538 [==============================] - 2s 911us/step - loss: 0.2664 - accuracy: 0.90020s - loss: 0.2673 - accuracy: 0.\n",
      "Epoch 45/100\n",
      "2538/2538 [==============================] - 2s 915us/step - loss: 0.2663 - accuracy: 0.8998\n",
      "Epoch 46/100\n",
      "2538/2538 [==============================] - 2s 921us/step - loss: 0.2661 - accuracy: 0.9006\n",
      "Epoch 47/100\n",
      "2538/2538 [==============================] - 2s 916us/step - loss: 0.2660 - accuracy: 0.9006\n",
      "Epoch 48/100\n",
      "2538/2538 [==============================] - 2s 911us/step - loss: 0.2654 - accuracy: 0.9001\n",
      "Epoch 49/100\n",
      "2538/2538 [==============================] - 2s 916us/step - loss: 0.2654 - accuracy: 0.9010\n",
      "Epoch 50/100\n",
      "2538/2538 [==============================] - 2s 916us/step - loss: 0.2651 - accuracy: 0.8999\n",
      "Epoch 51/100\n",
      "2538/2538 [==============================] - 2s 919us/step - loss: 0.2647 - accuracy: 0.9000\n",
      "Epoch 52/100\n",
      "2538/2538 [==============================] - 2s 911us/step - loss: 0.2650 - accuracy: 0.9003\n",
      "Epoch 53/100\n",
      "2538/2538 [==============================] - 2s 918us/step - loss: 0.2651 - accuracy: 0.9002\n",
      "Epoch 54/100\n",
      "2538/2538 [==============================] - 2s 915us/step - loss: 0.2648 - accuracy: 0.9011\n",
      "Epoch 55/100\n",
      "2538/2538 [==============================] - 2s 912us/step - loss: 0.2646 - accuracy: 0.8996\n",
      "Epoch 56/100\n",
      "2538/2538 [==============================] - 2s 912us/step - loss: 0.2644 - accuracy: 0.9004\n",
      "Epoch 57/100\n",
      "2538/2538 [==============================] - 2s 911us/step - loss: 0.2647 - accuracy: 0.9008\n",
      "Epoch 58/100\n",
      "2538/2538 [==============================] - 2s 913us/step - loss: 0.2639 - accuracy: 0.9008\n",
      "Epoch 59/100\n",
      "2538/2538 [==============================] - 2s 915us/step - loss: 0.2644 - accuracy: 0.9003\n",
      "Epoch 60/100\n",
      "2538/2538 [==============================] - 2s 917us/step - loss: 0.2635 - accuracy: 0.9011\n",
      "Epoch 61/100\n",
      "2538/2538 [==============================] - 2s 918us/step - loss: 0.2646 - accuracy: 0.9007\n",
      "Epoch 62/100\n",
      "2538/2538 [==============================] - 2s 918us/step - loss: 0.2645 - accuracy: 0.9013\n",
      "Epoch 63/100\n",
      "2538/2538 [==============================] - 2s 916us/step - loss: 0.2638 - accuracy: 0.9001\n",
      "Epoch 64/100\n",
      "2538/2538 [==============================] - 2s 918us/step - loss: 0.2635 - accuracy: 0.9011\n",
      "Epoch 65/100\n",
      "2538/2538 [==============================] - 2s 916us/step - loss: 0.2635 - accuracy: 0.9008\n",
      "Epoch 66/100\n",
      "2538/2538 [==============================] - 2s 914us/step - loss: 0.2637 - accuracy: 0.9008\n",
      "Epoch 67/100\n",
      "2538/2538 [==============================] - 2s 916us/step - loss: 0.2636 - accuracy: 0.9006\n",
      "Epoch 68/100\n",
      "2538/2538 [==============================] - 2s 917us/step - loss: 0.2639 - accuracy: 0.9008\n",
      "Epoch 69/100\n",
      "2538/2538 [==============================] - 2s 918us/step - loss: 0.2638 - accuracy: 0.9006\n",
      "Epoch 70/100\n",
      "2538/2538 [==============================] - 2s 908us/step - loss: 0.2635 - accuracy: 0.9012\n",
      "Epoch 71/100\n",
      "2538/2538 [==============================] - 2s 915us/step - loss: 0.2632 - accuracy: 0.9011\n",
      "Epoch 72/100\n",
      "2538/2538 [==============================] - 2s 919us/step - loss: 0.2636 - accuracy: 0.9009\n",
      "Epoch 73/100\n",
      "2538/2538 [==============================] - 2s 916us/step - loss: 0.2633 - accuracy: 0.9015\n",
      "Epoch 74/100\n",
      "2538/2538 [==============================] - 2s 914us/step - loss: 0.2633 - accuracy: 0.9013\n",
      "Epoch 75/100\n",
      "2538/2538 [==============================] - 2s 915us/step - loss: 0.2630 - accuracy: 0.9013\n",
      "Epoch 76/100\n",
      "2538/2538 [==============================] - 2s 919us/step - loss: 0.2635 - accuracy: 0.9006\n",
      "Epoch 77/100\n",
      "2538/2538 [==============================] - 2s 913us/step - loss: 0.2634 - accuracy: 0.9018\n",
      "Epoch 78/100\n"
     ]
    },
    {
     "name": "stdout",
     "output_type": "stream",
     "text": [
      "2538/2538 [==============================] - 2s 916us/step - loss: 0.2634 - accuracy: 0.9016\n",
      "Epoch 79/100\n",
      "2538/2538 [==============================] - 2s 913us/step - loss: 0.2633 - accuracy: 0.9015\n",
      "Epoch 80/100\n",
      "2538/2538 [==============================] - 2s 916us/step - loss: 0.2630 - accuracy: 0.9011\n",
      "Epoch 81/100\n",
      "2538/2538 [==============================] - 2s 916us/step - loss: 0.2633 - accuracy: 0.9015\n",
      "Epoch 82/100\n",
      "2538/2538 [==============================] - 2s 918us/step - loss: 0.2632 - accuracy: 0.9003\n",
      "Epoch 83/100\n",
      "2538/2538 [==============================] - 2s 916us/step - loss: 0.2632 - accuracy: 0.9009\n",
      "Epoch 84/100\n",
      "2538/2538 [==============================] - 2s 913us/step - loss: 0.2632 - accuracy: 0.9008\n",
      "Epoch 85/100\n",
      "2538/2538 [==============================] - 2s 912us/step - loss: 0.2631 - accuracy: 0.9013\n",
      "Epoch 86/100\n",
      "2538/2538 [==============================] - ETA: 0s - loss: 0.2628 - accuracy: 0.90 - 2s 913us/step - loss: 0.2627 - accuracy: 0.9009\n",
      "Epoch 87/100\n",
      "2538/2538 [==============================] - 2s 914us/step - loss: 0.2636 - accuracy: 0.9011\n",
      "Epoch 88/100\n",
      "2538/2538 [==============================] - 2s 913us/step - loss: 0.2629 - accuracy: 0.9009\n",
      "Epoch 89/100\n",
      "2538/2538 [==============================] - 2s 915us/step - loss: 0.2630 - accuracy: 0.9017\n",
      "Epoch 90/100\n",
      "2538/2538 [==============================] - 2s 920us/step - loss: 0.2629 - accuracy: 0.90110s - loss: 0.2634 - accuracy: \n",
      "Epoch 91/100\n",
      "2538/2538 [==============================] - 2s 915us/step - loss: 0.2626 - accuracy: 0.9016\n",
      "Epoch 92/100\n",
      "2538/2538 [==============================] - 2s 909us/step - loss: 0.2626 - accuracy: 0.9004\n",
      "Epoch 93/100\n",
      "2538/2538 [==============================] - 2s 918us/step - loss: 0.2621 - accuracy: 0.9012\n",
      "Epoch 94/100\n",
      "2538/2538 [==============================] - 2s 915us/step - loss: 0.2626 - accuracy: 0.9020\n",
      "Epoch 95/100\n",
      "2538/2538 [==============================] - 2s 915us/step - loss: 0.2623 - accuracy: 0.9009\n",
      "Epoch 96/100\n",
      "2538/2538 [==============================] - 2s 918us/step - loss: 0.2632 - accuracy: 0.9009\n",
      "Epoch 97/100\n",
      "2538/2538 [==============================] - 2s 908us/step - loss: 0.2627 - accuracy: 0.9012\n",
      "Epoch 98/100\n",
      "2538/2538 [==============================] - 2s 915us/step - loss: 0.2628 - accuracy: 0.9009\n",
      "Epoch 99/100\n",
      "2538/2538 [==============================] - 2s 914us/step - loss: 0.2622 - accuracy: 0.9016\n",
      "Epoch 100/100\n",
      "2538/2538 [==============================] - 2s 912us/step - loss: 0.2627 - accuracy: 0.9009\n",
      "794/794 [==============================] - 1s 722us/step - loss: 0.2619 - accuracy: 0.9022\n",
      "Accuracy: 90.22\n"
     ]
    }
   ],
   "source": [
    "# using extracted features from GAN discriminator\n",
    "model = Sequential()\n",
    "model.add(Dense(12, input_dim=7, activation='relu'))\n",
    "model.add(Dense(8, activation='relu'))\n",
    "model.add(Dense(1, activation='sigmoid'))\n",
    "model.compile(loss='binary_crossentropy', optimizer='adam', metrics=['accuracy'])\n",
    "model.fit(X, y, epochs=100, batch_size=10)\n",
    "_, accuracy = model.evaluate(X, y)\n",
    "print('Accuracy: %.2f' % (accuracy*100))"
   ]
  },
  {
   "cell_type": "code",
   "execution_count": 35,
   "id": "62efcf07",
   "metadata": {},
   "outputs": [
    {
     "name": "stdout",
     "output_type": "stream",
     "text": [
      "Epoch 1/100\n",
      "2538/2538 [==============================] - 3s 916us/step - loss: 0.3562 - accuracy: 0.8859\n",
      "Epoch 2/100\n",
      "2538/2538 [==============================] - 2s 913us/step - loss: 0.3313 - accuracy: 0.8983\n",
      "Epoch 3/100\n",
      "2538/2538 [==============================] - 2s 911us/step - loss: 0.3301 - accuracy: 0.8983\n",
      "Epoch 4/100\n",
      "2538/2538 [==============================] - 2s 916us/step - loss: 0.3294 - accuracy: 0.8983\n",
      "Epoch 5/100\n",
      "2538/2538 [==============================] - ETA: 0s - loss: 0.3293 - accuracy: 0.89 - 2s 914us/step - loss: 0.3291 - accuracy: 0.8983\n",
      "Epoch 6/100\n",
      "2538/2538 [==============================] - 2s 911us/step - loss: 0.3287 - accuracy: 0.8983\n",
      "Epoch 7/100\n",
      "2538/2538 [==============================] - 2s 904us/step - loss: 0.3285 - accuracy: 0.8983\n",
      "Epoch 8/100\n",
      "2538/2538 [==============================] - 2s 907us/step - loss: 0.3285 - accuracy: 0.8983\n",
      "Epoch 9/100\n",
      "2538/2538 [==============================] - 2s 912us/step - loss: 0.3281 - accuracy: 0.8983\n",
      "Epoch 10/100\n",
      "2538/2538 [==============================] - 2s 912us/step - loss: 0.3280 - accuracy: 0.8983\n",
      "Epoch 11/100\n",
      "2538/2538 [==============================] - 2s 906us/step - loss: 0.3279 - accuracy: 0.8983\n",
      "Epoch 12/100\n",
      "2538/2538 [==============================] - 2s 914us/step - loss: 0.3279 - accuracy: 0.8983\n",
      "Epoch 13/100\n",
      "2538/2538 [==============================] - 2s 920us/step - loss: 0.3277 - accuracy: 0.8983\n",
      "Epoch 14/100\n",
      "2538/2538 [==============================] - 2s 914us/step - loss: 0.3273 - accuracy: 0.8983\n",
      "Epoch 15/100\n",
      "2538/2538 [==============================] - 2s 916us/step - loss: 0.3276 - accuracy: 0.8983\n",
      "Epoch 16/100\n",
      "2538/2538 [==============================] - 2s 910us/step - loss: 0.3271 - accuracy: 0.8983\n",
      "Epoch 17/100\n",
      "2538/2538 [==============================] - 2s 914us/step - loss: 0.3273 - accuracy: 0.8983\n",
      "Epoch 18/100\n",
      "2538/2538 [==============================] - 2s 912us/step - loss: 0.3271 - accuracy: 0.8983\n",
      "Epoch 19/100\n",
      "2538/2538 [==============================] - 2s 915us/step - loss: 0.3271 - accuracy: 0.8983\n",
      "Epoch 20/100\n",
      "2538/2538 [==============================] - 2s 911us/step - loss: 0.3270 - accuracy: 0.8983\n",
      "Epoch 21/100\n",
      "2538/2538 [==============================] - 2s 910us/step - loss: 0.3270 - accuracy: 0.8983\n",
      "Epoch 22/100\n",
      "2538/2538 [==============================] - 2s 923us/step - loss: 0.3267 - accuracy: 0.8983\n",
      "Epoch 23/100\n",
      "2538/2538 [==============================] - 2s 912us/step - loss: 0.3268 - accuracy: 0.8983\n",
      "Epoch 24/100\n",
      "2538/2538 [==============================] - 2s 917us/step - loss: 0.3267 - accuracy: 0.8983\n",
      "Epoch 25/100\n",
      "2538/2538 [==============================] - 2s 916us/step - loss: 0.3268 - accuracy: 0.8983\n",
      "Epoch 26/100\n",
      "2538/2538 [==============================] - 2s 915us/step - loss: 0.3265 - accuracy: 0.8983\n",
      "Epoch 27/100\n",
      "2538/2538 [==============================] - 2s 915us/step - loss: 0.3266 - accuracy: 0.8983\n",
      "Epoch 28/100\n",
      "2538/2538 [==============================] - 2s 910us/step - loss: 0.3266 - accuracy: 0.8983\n",
      "Epoch 29/100\n",
      "2538/2538 [==============================] - 2s 916us/step - loss: 0.3266 - accuracy: 0.8983\n",
      "Epoch 30/100\n",
      "2538/2538 [==============================] - 2s 915us/step - loss: 0.3268 - accuracy: 0.8983\n",
      "Epoch 31/100\n",
      "2538/2538 [==============================] - 2s 906us/step - loss: 0.3266 - accuracy: 0.89840s - loss: 0.3264 - accura\n",
      "Epoch 32/100\n",
      "2538/2538 [==============================] - 2s 914us/step - loss: 0.3263 - accuracy: 0.8983\n",
      "Epoch 33/100\n",
      "2538/2538 [==============================] - 2s 919us/step - loss: 0.3265 - accuracy: 0.8983\n",
      "Epoch 34/100\n",
      "2538/2538 [==============================] - 2s 913us/step - loss: 0.3265 - accuracy: 0.8983\n",
      "Epoch 35/100\n",
      "2538/2538 [==============================] - 2s 912us/step - loss: 0.3263 - accuracy: 0.8983\n",
      "Epoch 36/100\n",
      "2538/2538 [==============================] - 2s 912us/step - loss: 0.3263 - accuracy: 0.8984\n",
      "Epoch 37/100\n",
      "2538/2538 [==============================] - 2s 909us/step - loss: 0.3262 - accuracy: 0.8984\n",
      "Epoch 38/100\n",
      "2538/2538 [==============================] - 2s 918us/step - loss: 0.3264 - accuracy: 0.8983\n",
      "Epoch 39/100\n",
      "2538/2538 [==============================] - 2s 912us/step - loss: 0.3263 - accuracy: 0.8983\n",
      "Epoch 40/100\n",
      "2538/2538 [==============================] - 2s 917us/step - loss: 0.3261 - accuracy: 0.8983\n",
      "Epoch 41/100\n",
      "2538/2538 [==============================] - 2s 915us/step - loss: 0.3263 - accuracy: 0.8983\n",
      "Epoch 42/100\n",
      "2538/2538 [==============================] - 2s 911us/step - loss: 0.3260 - accuracy: 0.8982\n",
      "Epoch 43/100\n",
      "2538/2538 [==============================] - 2s 912us/step - loss: 0.3262 - accuracy: 0.8984\n",
      "Epoch 44/100\n",
      "2538/2538 [==============================] - 2s 912us/step - loss: 0.3261 - accuracy: 0.8984\n",
      "Epoch 45/100\n",
      "2538/2538 [==============================] - 2s 915us/step - loss: 0.3260 - accuracy: 0.8983\n",
      "Epoch 46/100\n",
      "2538/2538 [==============================] - 2s 917us/step - loss: 0.3260 - accuracy: 0.8984\n",
      "Epoch 47/100\n",
      "2538/2538 [==============================] - 2s 911us/step - loss: 0.3260 - accuracy: 0.89830s - loss: 0.321\n",
      "Epoch 48/100\n",
      "2538/2538 [==============================] - 2s 914us/step - loss: 0.3260 - accuracy: 0.8985\n",
      "Epoch 49/100\n",
      "2538/2538 [==============================] - 2s 910us/step - loss: 0.3261 - accuracy: 0.8983\n",
      "Epoch 50/100\n",
      "2538/2538 [==============================] - 2s 915us/step - loss: 0.3259 - accuracy: 0.8983\n",
      "Epoch 51/100\n",
      "2538/2538 [==============================] - 2s 910us/step - loss: 0.3258 - accuracy: 0.8984\n",
      "Epoch 52/100\n",
      "2538/2538 [==============================] - 2s 911us/step - loss: 0.3257 - accuracy: 0.8985\n",
      "Epoch 53/100\n",
      "2538/2538 [==============================] - 2s 912us/step - loss: 0.3260 - accuracy: 0.8983\n",
      "Epoch 54/100\n",
      "2538/2538 [==============================] - 2s 916us/step - loss: 0.3258 - accuracy: 0.8983\n",
      "Epoch 55/100\n",
      "2538/2538 [==============================] - 2s 916us/step - loss: 0.3257 - accuracy: 0.89841s - loss: 0.331 - ETA: 0s -\n",
      "Epoch 56/100\n",
      "2538/2538 [==============================] - 2s 912us/step - loss: 0.3260 - accuracy: 0.8983\n",
      "Epoch 57/100\n",
      "2538/2538 [==============================] - 2s 912us/step - loss: 0.3256 - accuracy: 0.8984\n",
      "Epoch 58/100\n",
      "2538/2538 [==============================] - 2s 914us/step - loss: 0.3259 - accuracy: 0.8983\n",
      "Epoch 59/100\n",
      "2538/2538 [==============================] - 2s 916us/step - loss: 0.3259 - accuracy: 0.8983\n",
      "Epoch 60/100\n",
      "2538/2538 [==============================] - 2s 914us/step - loss: 0.3256 - accuracy: 0.8984\n",
      "Epoch 61/100\n",
      "2538/2538 [==============================] - 2s 913us/step - loss: 0.3258 - accuracy: 0.8983\n",
      "Epoch 62/100\n",
      "2538/2538 [==============================] - 2s 908us/step - loss: 0.3255 - accuracy: 0.8983\n",
      "Epoch 63/100\n",
      "2538/2538 [==============================] - 2s 911us/step - loss: 0.3257 - accuracy: 0.8984\n",
      "Epoch 64/100\n",
      "2538/2538 [==============================] - 2s 909us/step - loss: 0.3257 - accuracy: 0.8982\n",
      "Epoch 65/100\n",
      "2538/2538 [==============================] - 2s 913us/step - loss: 0.3256 - accuracy: 0.8984\n",
      "Epoch 66/100\n",
      "2538/2538 [==============================] - 2s 917us/step - loss: 0.3254 - accuracy: 0.8983\n",
      "Epoch 67/100\n",
      "2538/2538 [==============================] - 2s 914us/step - loss: 0.3255 - accuracy: 0.8983\n",
      "Epoch 68/100\n",
      "2538/2538 [==============================] - 2s 910us/step - loss: 0.3257 - accuracy: 0.8984\n",
      "Epoch 69/100\n",
      "2538/2538 [==============================] - 2s 919us/step - loss: 0.3256 - accuracy: 0.8984\n",
      "Epoch 70/100\n",
      "2538/2538 [==============================] - 2s 917us/step - loss: 0.3254 - accuracy: 0.8983\n",
      "Epoch 71/100\n",
      "2538/2538 [==============================] - 2s 919us/step - loss: 0.3253 - accuracy: 0.8983\n",
      "Epoch 72/100\n",
      "2538/2538 [==============================] - 2s 910us/step - loss: 0.3253 - accuracy: 0.8982\n",
      "Epoch 73/100\n",
      "2538/2538 [==============================] - 2s 914us/step - loss: 0.3252 - accuracy: 0.8984\n",
      "Epoch 74/100\n",
      "2538/2538 [==============================] - 2s 917us/step - loss: 0.3252 - accuracy: 0.8983\n",
      "Epoch 75/100\n",
      "2538/2538 [==============================] - 2s 912us/step - loss: 0.3254 - accuracy: 0.8983\n",
      "Epoch 76/100\n",
      "2538/2538 [==============================] - 2s 914us/step - loss: 0.3252 - accuracy: 0.8983\n",
      "Epoch 77/100\n"
     ]
    },
    {
     "name": "stdout",
     "output_type": "stream",
     "text": [
      "2538/2538 [==============================] - 2s 913us/step - loss: 0.3253 - accuracy: 0.8984\n",
      "Epoch 78/100\n",
      "2538/2538 [==============================] - 2s 912us/step - loss: 0.3253 - accuracy: 0.8983\n",
      "Epoch 79/100\n",
      "2538/2538 [==============================] - 2s 911us/step - loss: 0.3251 - accuracy: 0.89830s - loss: 0.3251 - accu\n",
      "Epoch 80/100\n",
      "2538/2538 [==============================] - 2s 914us/step - loss: 0.3252 - accuracy: 0.8983\n",
      "Epoch 81/100\n",
      "2538/2538 [==============================] - 2s 913us/step - loss: 0.3250 - accuracy: 0.8983\n",
      "Epoch 82/100\n",
      "2538/2538 [==============================] - 2s 934us/step - loss: 0.3251 - accuracy: 0.8983\n",
      "Epoch 83/100\n",
      "2538/2538 [==============================] - 2s 912us/step - loss: 0.3251 - accuracy: 0.8983\n",
      "Epoch 84/100\n",
      "2538/2538 [==============================] - 2s 913us/step - loss: 0.3252 - accuracy: 0.8983\n",
      "Epoch 85/100\n",
      "2538/2538 [==============================] - 2s 909us/step - loss: 0.3252 - accuracy: 0.8984\n",
      "Epoch 86/100\n",
      "2538/2538 [==============================] - 2s 910us/step - loss: 0.3247 - accuracy: 0.8983\n",
      "Epoch 87/100\n",
      "2538/2538 [==============================] - 2s 910us/step - loss: 0.3252 - accuracy: 0.8984\n",
      "Epoch 88/100\n",
      "2538/2538 [==============================] - 2s 910us/step - loss: 0.3252 - accuracy: 0.8984\n",
      "Epoch 89/100\n",
      "2538/2538 [==============================] - 2s 910us/step - loss: 0.3250 - accuracy: 0.89840s - loss: 0.3260 - accuracy: 0.89\n",
      "Epoch 90/100\n",
      "2538/2538 [==============================] - 2s 913us/step - loss: 0.3251 - accuracy: 0.8984\n",
      "Epoch 91/100\n",
      "2538/2538 [==============================] - 2s 913us/step - loss: 0.3250 - accuracy: 0.89840s - loss: 0\n",
      "Epoch 92/100\n",
      "2538/2538 [==============================] - 2s 906us/step - loss: 0.3249 - accuracy: 0.8984\n",
      "Epoch 93/100\n",
      "2538/2538 [==============================] - 2s 911us/step - loss: 0.3250 - accuracy: 0.8984\n",
      "Epoch 94/100\n",
      "2538/2538 [==============================] - 2s 919us/step - loss: 0.3250 - accuracy: 0.8984\n",
      "Epoch 95/100\n",
      "2538/2538 [==============================] - 2s 916us/step - loss: 0.3249 - accuracy: 0.8983\n",
      "Epoch 96/100\n",
      "2538/2538 [==============================] - 2s 915us/step - loss: 0.3250 - accuracy: 0.8983\n",
      "Epoch 97/100\n",
      "2538/2538 [==============================] - 2s 913us/step - loss: 0.3247 - accuracy: 0.8983\n",
      "Epoch 98/100\n",
      "2538/2538 [==============================] - 2s 918us/step - loss: 0.3249 - accuracy: 0.8983\n",
      "Epoch 99/100\n",
      "2538/2538 [==============================] - 2s 909us/step - loss: 0.3246 - accuracy: 0.8984\n",
      "Epoch 100/100\n",
      "2538/2538 [==============================] - 2s 916us/step - loss: 0.3250 - accuracy: 0.8984\n",
      "794/794 [==============================] - 1s 715us/step - loss: 0.3297 - accuracy: 0.8983\n",
      "Accuracy: 89.83\n"
     ]
    }
   ],
   "source": [
    "# using random numbers as features\n",
    "X_rand = np.random.randn(X.shape[0], X.shape[1])\n",
    "model = Sequential()\n",
    "model.add(Dense(12, input_dim=7, activation='relu'))\n",
    "model.add(Dense(8, activation='relu'))\n",
    "model.add(Dense(1, activation='sigmoid'))\n",
    "model.compile(loss='binary_crossentropy', optimizer='adam', metrics=['accuracy'])\n",
    "model.fit(X_rand, y, epochs=100, batch_size=10)\n",
    "_, accuracy = model.evaluate(X, y)\n",
    "print('Accuracy: %.2f' % (accuracy*100))"
   ]
  },
  {
   "cell_type": "markdown",
   "id": "cc8657b1",
   "metadata": {},
   "source": [
    "## Keras resnet/vgg"
   ]
  },
  {
   "cell_type": "markdown",
   "id": "fc7975be",
   "metadata": {},
   "source": [
    "## Test"
   ]
  },
  {
   "cell_type": "code",
   "execution_count": 40,
   "id": "59e32523",
   "metadata": {},
   "outputs": [
    {
     "data": {
      "text/plain": [
       "array([[0.11824239],\n",
       "       [0.1072495 ],\n",
       "       [0.11712009],\n",
       "       ...,\n",
       "       [0.11333235],\n",
       "       [0.11070741],\n",
       "       [0.11838475]], dtype=float32)"
      ]
     },
     "execution_count": 40,
     "metadata": {},
     "output_type": "execute_result"
    }
   ],
   "source": [
    "scores = model.predict(X)\n",
    "scores"
   ]
  },
  {
   "cell_type": "code",
   "execution_count": 41,
   "id": "662521fc",
   "metadata": {},
   "outputs": [],
   "source": [
    "res = np.stack((scores[:, 0], y), axis = 1)\n",
    "import pandas as pd \n",
    "pd.DataFrame(res).to_csv(\"scores.csv\",header=None, index=None)"
   ]
  },
  {
   "cell_type": "code",
   "execution_count": 42,
   "id": "465b3a9c",
   "metadata": {
    "scrolled": true
   },
   "outputs": [
    {
     "name": "stdout",
     "output_type": "stream",
     "text": [
      "7339 63774\n"
     ]
    },
    {
     "data": {
      "text/plain": [
       "(0.4812788972374955, 0.11148794740438461)"
      ]
     },
     "execution_count": 42,
     "metadata": {},
     "output_type": "execute_result"
    }
   ],
   "source": [
    "# eer and thresholds\n",
    "from eval_metrics import compute_eer\n",
    "\n",
    "target_scores = []\n",
    "nontarget_scores = []\n",
    "for i in res:\n",
    "    if i[1] == 1: \n",
    "        target_scores += [i[0]]\n",
    "    else: nontarget_scores += [i[0]]\n",
    "\n",
    "print(len(target_scores), len(nontarget_scores))\n",
    "\n",
    "eer, thresholds = compute_eer(np.array(target_scores), np.array(nontarget_scores))\n",
    "\n",
    "eer, thresholds"
   ]
  },
  {
   "cell_type": "code",
   "execution_count": 43,
   "id": "3f6f917b",
   "metadata": {},
   "outputs": [
    {
     "name": "stdout",
     "output_type": "stream",
     "text": [
      "[[36611     0]\n",
      " [    0 34502]]\n"
     ]
    }
   ],
   "source": [
    "# confusion matrix\n",
    "res[res[:, 0] >= thresholds] = 1\n",
    "res[res[:, 0] < thresholds] = 0\n",
    "\n",
    "from sklearn.metrics import confusion_matrix\n",
    "cf_matrix = confusion_matrix(res[:, 1], res[:, 0])\n",
    "\n",
    "print(cf_matrix)"
   ]
  },
  {
   "cell_type": "code",
   "execution_count": 26,
   "id": "8db9bed6",
   "metadata": {},
   "outputs": [
    {
     "data": {
      "image/png": "[encoded data removed]",
      "text/plain": [
       "<Figure size 432x288 with 2 Axes>"
      ]
     },
     "metadata": {
      "needs_background": "light"
     },
     "output_type": "display_data"
    }
   ],
   "source": [
    "import seaborn as sns\n",
    "ax = sns.heatmap(cf_matrix/np.sum(cf_matrix), annot=True, \n",
    "            fmt='.2%', cmap='Blues')\n",
    "\n",
    "ax.set_title('Seaborn Confusion Matrix with labels\\n\\n');\n",
    "ax.set_xlabel('\\nPredicted Values')\n",
    "ax.set_ylabel('Actual Values ');\n",
    "\n",
    "## Ticket labels - List must be in alphabetical order\n",
    "ax.xaxis.set_ticklabels(['False','True'])\n",
    "ax.yaxis.set_ticklabels(['False','True'])\n",
    "\n",
    "## Display the visualization of the Confusion Matrix.\n",
    "plt.show()"
   ]
  },
  {
   "cell_type": "markdown",
   "id": "c95c810c",
   "metadata": {},
   "source": [
    "### Using random features:\n",
    "train:(0.5321598327213382, 0.11188706010580063)\n",
    "eval: (0.4812788972374955, 0.11148794740438461)\n",
    "### Using extracted features:\n",
    "train:(0.2561928804569563, 0.13007508218288422) -> 100 epochs, not converged\n",
    "eval:(0.23355296771100248, 0.12094078958034515)"
   ]
  }
 ],
 "metadata": {
  "kernelspec": {
   "display_name": "Python 3",
   "language": "python",
   "name": "python3"
  },
  "language_info": {
   "codemirror_mode": {
    "name": "ipython",
    "version": 3
   },
   "file_extension": ".py",
   "mimetype": "text/x-python",
   "name": "python",
   "nbconvert_exporter": "python",
   "pygments_lexer": "ipython3",
   "version": "3.6.13"
  }
 },
 "nbformat": 4,
 "nbformat_minor": 5
}
